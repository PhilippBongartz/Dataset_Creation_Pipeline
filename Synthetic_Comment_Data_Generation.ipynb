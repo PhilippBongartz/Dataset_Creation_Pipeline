{
 "cells": [
  {
   "cell_type": "markdown",
   "id": "7ce586d2",
   "metadata": {},
   "source": [
    "# Synthetic comment generation\n",
    "\n",
    "In this notebook I develop code to translate moves into verbal descriptions:\n",
    "The idea is that the model doesn't have to learn squares, pieces and moves from the noisy real comment data. Instead it can be pretrained on almost unlimited synthetic data. \n",
    "\n",
    "Input is piece, color of piece, start_square, target_square, piece_taken.\n",
    "Output is a description of the move, not necessarily containing all that information.\n",
    "\n",
    "Possibly also which pieces are being attacked with the move?"
   ]
  },
  {
   "cell_type": "markdown",
   "id": "9a0936ab",
   "metadata": {},
   "source": [
    "### Synthetic Move decription"
   ]
  },
  {
   "cell_type": "code",
   "execution_count": 19,
   "id": "343a804f",
   "metadata": {},
   "outputs": [
    {
     "data": {
      "text/plain": [
       "'white bishop b2 to e5.'"
      ]
     },
     "execution_count": 19,
     "metadata": {},
     "output_type": "execute_result"
    }
   ],
   "source": [
    "import random\n",
    "\n",
    "def choose_random_entry(my_list):\n",
    "    return random.choice(my_list)\n",
    "\n",
    "def make_description(color,piece,start,target,taken):\n",
    "    color = choose_random_entry([color+' ','']) # mal color mal nicht\n",
    "    \n",
    "    move_template = [\n",
    "        f\"\"\"{color}{piece} {target}.\"\"\",\n",
    "        f\"\"\"{color}{piece} {start} {target}.\"\"\",\n",
    "        f\"\"\"{color}{piece} {start} to {target}.\"\"\",\n",
    "        f\"\"\"{color}{piece} to {target}.\"\"\",\n",
    "        f\"\"\"the {color}{piece} moves from {start} to {target}.\"\"\"\n",
    "    ]\n",
    "\n",
    "    take_template = [\n",
    "        f\"\"\"{piece} takes on {target}.\"\"\",\n",
    "        f\"\"\"{piece} {start} takes on {target}.\"\"\",\n",
    "        f\"\"\"the {color}{piece} takes on {target}.\"\"\",\n",
    "        f\"\"\"the {color}{piece} takes the {taken} on {target}.\"\"\",\n",
    "        f\"\"\"the {color}{piece} on {start} captures the {taken} on {target}.\"\"\",\n",
    "        f\"\"\"the {color}{piece} moves from {start} to {target} taking the {taken}.\"\"\",\n",
    "    ]\n",
    "    \n",
    "    if taken is None:\n",
    "        template = move_template\n",
    "    else:\n",
    "        template = take_template\n",
    "    \n",
    "    return choose_random_entry(template)\n",
    "\n",
    "color,piece,start,target,taken = 'white','bishop','b2','e5', None #'pawn'\n",
    "make_description(color,piece,start,target,taken)"
   ]
  },
  {
   "cell_type": "code",
   "execution_count": null,
   "id": "1441c04f",
   "metadata": {},
   "outputs": [],
   "source": []
  },
  {
   "cell_type": "markdown",
   "id": "cda1d379",
   "metadata": {},
   "source": [
    "### Synthetic question answer pairs about a position + move\n",
    "\n",
    "* Which pieces are attacked by a certain piece\n",
    "* On which squares are certain pieces\n",
    "* Is a certain piece attacked and by which piece?\n",
    "\n"
   ]
  },
  {
   "cell_type": "code",
   "execution_count": null,
   "id": "a9916fa9",
   "metadata": {},
   "outputs": [],
   "source": [
    "f\"\"\"Which pieces are attacked by the {piece} on {square}?\"\"\"\n",
    "\n",
    "f\"\"\"The {piece} on {square}\"\"\"\n",
    "\n",
    "\n",
    "f\"\"\"On which squares are {piece}s?\"\"\"\n",
    "\n",
    "f\"\"\"{square}\"\"\"\n",
    "\n",
    "\n",
    "f\"\"\"Is the {} on {} attacked and by which piece?\"\"\"\n",
    "\n",
    "f\"\"\"By the {} on {}\"\"\"\n",
    "\n",
    "\n"
   ]
  },
  {
   "cell_type": "markdown",
   "id": "25f6ae6a",
   "metadata": {},
   "source": [
    ">>> board.is_check()\n",
    "True\n",
    ">>> board.is_attacked_by(chess.WHITE, chess.E8)\n",
    "True\n",
    "\n",
    ">>> attackers = board.attackers(chess.WHITE, chess.F3)\n",
    ">>> attackers\n",
    "SquareSet(0x0000_0000_0000_4040)\n",
    ">>> chess.G2 in attackers\n",
    "True\n",
    ">>> print(attackers)\n",
    ". . . . . . . .\n",
    ". . . . . . . .\n",
    ". . . . . . . .\n",
    ". . . . . . . .\n",
    ". . . . . . . .\n",
    ". . . . . . . .\n",
    ". . . . . . 1 .\n",
    ". . . . . . 1 ."
   ]
  },
  {
   "cell_type": "code",
   "execution_count": null,
   "id": "09e2048d",
   "metadata": {},
   "outputs": [],
   "source": []
  }
 ],
 "metadata": {
  "kernelspec": {
   "display_name": "yt_scrape",
   "language": "python",
   "name": "yt_scrape"
  },
  "language_info": {
   "codemirror_mode": {
    "name": "ipython",
    "version": 3
   },
   "file_extension": ".py",
   "mimetype": "text/x-python",
   "name": "python",
   "nbconvert_exporter": "python",
   "pygments_lexer": "ipython3",
   "version": "3.8.13"
  }
 },
 "nbformat": 4,
 "nbformat_minor": 5
}
